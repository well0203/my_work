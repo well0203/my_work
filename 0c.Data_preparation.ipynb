{
 "cells": [
  {
   "cell_type": "markdown",
   "metadata": {},
   "source": [
    "Here we split the whole dataset into 5 datasets for each country (now they contain only their country related columns). In addition we **truncate outliers** and normalize the data (for ARIMA, because other models do that within the code). We perform scaling here to analyse the values. In such a way we can then choose appropriate evaluation metrics etc."
   ]
  },
  {
   "cell_type": "markdown",
   "metadata": {},
   "source": [
    "# 1. Split data into 5 datasets"
   ]
  },
  {
   "cell_type": "code",
   "execution_count": 2,
   "metadata": {},
   "outputs": [],
   "source": [
    "import pandas as pd\n",
    "import numpy as np\n",
    "import os\n",
    "from datetime import date\n",
    "from utils.helper import split_scale_dataset, add_exog_vars"
   ]
  },
  {
   "cell_type": "code",
   "execution_count": 3,
   "metadata": {},
   "outputs": [],
   "source": [
    "# Create a folder named \"datasets\" if it doesn't exist\n",
    "folder_name = \"datasets\"\n",
    "if not os.path.exists(folder_name):\n",
    "    os.makedirs(folder_name)\n",
    "\n",
    "df = pd.read_csv(\"./datasets/top_5_countries.csv\", index_col=0, parse_dates=True)"
   ]
  },
  {
   "cell_type": "markdown",
   "metadata": {},
   "source": [
    "For each country revert UTC time to local time. Then make so that each dataset starts and ends at the same time."
   ]
  },
  {
   "cell_type": "code",
   "execution_count": 4,
   "metadata": {},
   "outputs": [],
   "source": [
    "top_5_countries = ['DE', 'GB', 'ES', 'FR', 'IT']\n",
    "utc_converter = {'DE': 'Europe/Berlin', \n",
    "                 'GB': 'Europe/London', \n",
    "                 'ES': 'Europe/Madrid', \n",
    "                 'FR': 'Europe/Paris', \n",
    "                 'IT': 'Europe/Rome'}\n",
    "\n",
    "# Split and save the datasets\n",
    "for country_prefix in top_5_countries:\n",
    "    # Filter columns with the specified prefix\n",
    "    country_columns = [col for col in df.columns if col.startswith(country_prefix)]\n",
    "    country_df = df[country_columns].copy()\n",
    "\n",
    "    # Convert UTC to local time\n",
    "    country_df.index = country_df.index.tz_convert(utc_converter[country_prefix]).tz_localize(None)\n",
    "    \n",
    "    # We drop first day and last day, because of missing values\n",
    "    first_day = country_df.index.date.min()\n",
    "    last_day = date(2020, 9, 30)\n",
    "\n",
    "    # Drop all observations from the first and last days\n",
    "    country_df = country_df[(country_df.index.date > first_day) & (country_df.index.date < last_day)]\n",
    "\n",
    "    # Make 24 hours in each day (after daylight savings time etc) we have 23/25 hours\n",
    "    # in other words - irregular intervals.\n",
    "    # We will change it to have 24 hours in each day (simplest method). Then we do not break \n",
    "    # seasonalities and patterns, because at night load is small.\n",
    "    # Time changes: https://stats.stackexchange.com/questions/45046/daylight-saving-time-in-time-series-modelling-e-g-load-data\n",
    "    \n",
    "    # Remove duplicated timestamps\n",
    "    country_df = country_df[~country_df.index.duplicated(keep='first')]\n",
    "\n",
    "    # Resample to hourly frequency to ensure all hours are included\n",
    "    country_df = country_df.resample('H').asfreq()\n",
    "\n",
    "    # Fill missing values with average of the previous and next value\n",
    "    country_df = country_df.interpolate(method='linear', limit=1)\n",
    "    \n",
    "    # Save the DataFrame to a CSV file\n",
    "    file_name = f\"./datasets/{country_prefix}_data.csv\"\n",
    "    country_df.to_csv(file_name)\n"
   ]
  },
  {
   "cell_type": "markdown",
   "metadata": {},
   "source": [
    "# 2. Split and scale data\n",
    "\n",
    "Because of summer and winter time changes, we have not full days now."
   ]
  },
  {
   "cell_type": "code",
   "execution_count": 5,
   "metadata": {},
   "outputs": [],
   "source": [
    "de_df, gb_df, es_df, fr_df, it_df = [pd.read_csv(f\"./datasets/{country}_data.csv\", index_col=0, parse_dates=True) for country in top_5_countries] "
   ]
  },
  {
   "cell_type": "code",
   "execution_count": 6,
   "metadata": {},
   "outputs": [
    {
     "name": "stdout",
     "output_type": "stream",
     "text": [
      "41616\n",
      "41616\n",
      "41616\n",
      "41616\n",
      "41616\n"
     ]
    }
   ],
   "source": [
    "for df_country in [de_df, gb_df, es_df, fr_df, it_df]: \n",
    "    print(len(df_country))\n",
    "del df_country"
   ]
  },
  {
   "cell_type": "code",
   "execution_count": 7,
   "metadata": {},
   "outputs": [
    {
     "name": "stdout",
     "output_type": "stream",
     "text": [
      "Indices are identical!\n"
     ]
    }
   ],
   "source": [
    "# Check whether our data preparation was correct\n",
    "# There were different indices in the datasets\n",
    "# Because Britain has British summer time, others Central European summer time\n",
    "# British: change time from 01:00 to 02:00\n",
    "# Central European: change time from 02:00 to 03:00\n",
    "# Source: https://www.timeanddate.com/time/europe/\n",
    "\n",
    "if de_df.index.isin(gb_df.index).all():\n",
    "    print(\"Indices are identical!\")\n",
    "else:\n",
    "    print(\"Indices are not identical...\")\n",
    "\n",
    "    # Find non-matching elements\n",
    "    non_matching_elements_in_de_df = de_df.index[~de_df.index.isin(gb_df.index)]\n",
    "    non_matching_elements_in_gb_df = gb_df.index[~gb_df.index.isin(de_df.index)]\n",
    "    print(\"Non-matching elements in de_df:\", non_matching_elements_in_de_df)\n",
    "    print(\"Non-matching elements in gb_df:\", non_matching_elements_in_gb_df)"
   ]
  },
  {
   "cell_type": "code",
   "execution_count": 8,
   "metadata": {},
   "outputs": [
    {
     "name": "stdout",
     "output_type": "stream",
     "text": [
      "1734 days in the dataset.\n",
      "1734 days in the dataset.\n",
      "1734 days in the dataset.\n",
      "1734 days in the dataset.\n",
      "1734 days in the dataset.\n"
     ]
    }
   ],
   "source": [
    "# days in the datasets\n",
    "for df_country in [de_df, gb_df, es_df, fr_df, it_df]:\n",
    "    days_in_data = len(df_country)/24\n",
    "    print(f'{days_in_data:.0f} days in the dataset.')\n",
    "\n",
    "del df_country"
   ]
  },
  {
   "cell_type": "code",
   "execution_count": 9,
   "metadata": {},
   "outputs": [
    {
     "name": "stdout",
     "output_type": "stream",
     "text": [
      "Index frequency before: None\n",
      "Index frequency after: <Hour>\n"
     ]
    }
   ],
   "source": [
    "# We combine dfs, because it will be easier to work with them\n",
    "combined_df = pd.concat([de_df, gb_df, es_df, fr_df, it_df], axis=1)\n",
    "\n",
    "print('Index frequency before:', combined_df.index.freq)\n",
    "\n",
    "# Set frequency\n",
    "combined_df = combined_df.asfreq('H')\n",
    "print('Index frequency after:', combined_df.index.freq)"
   ]
  },
  {
   "cell_type": "code",
   "execution_count": 10,
   "metadata": {},
   "outputs": [
    {
     "name": "stdout",
     "output_type": "stream",
     "text": [
      "1214 days in the train dataset.\n",
      " 260 days in the test dataset.\n",
      " 260 days in the validation dataset.\n"
     ]
    }
   ],
   "source": [
    "# Divide data into days\n",
    "\n",
    "train_size = int(round(len(country_df)/24*0.7, 0))\n",
    "test_size = int(round(len(country_df)/24*0.15, 0))\n",
    "val_size = int(len(country_df)/24) - train_size - test_size\n",
    "print(f'{train_size:.0f} days in the train dataset.\\n {test_size:.0f} days in the test dataset.\\n {val_size:.0f} days in the validation dataset.')\n",
    "\n",
    "assert(days_in_data == train_size + test_size + val_size)"
   ]
  },
  {
   "cell_type": "code",
   "execution_count": 11,
   "metadata": {},
   "outputs": [
    {
     "name": "stdout",
     "output_type": "stream",
     "text": [
      "29136 observations in the train dataset.\n",
      " 6240 observations in the test dataset.\n",
      " 6240 observations in the validation dataset.\n"
     ]
    }
   ],
   "source": [
    "num_train = train_size*24\n",
    "num_test = test_size*24\n",
    "num_vali = val_size*24\n",
    "print(f'{num_train} observations in the train dataset.\\n {num_test} observations in the test dataset.\\n {num_vali} observations in the validation dataset.')\n",
    "\n",
    "assert(len(country_df) == num_train + num_test + num_vali)"
   ]
  },
  {
   "cell_type": "markdown",
   "metadata": {},
   "source": [
    "Split and scale datasets."
   ]
  },
  {
   "cell_type": "code",
   "execution_count": 12,
   "metadata": {},
   "outputs": [
    {
     "name": "stdout",
     "output_type": "stream",
     "text": [
      "29136 observations in the train dataset.\n",
      "6240 observations in the validation dataset. \n",
      "6240 observations in the test dataset.\n"
     ]
    }
   ],
   "source": [
    "train, vali, test = split_scale_dataset(combined_df, train_split=0.7, test_split=0.15)"
   ]
  },
  {
   "cell_type": "code",
   "execution_count": 13,
   "metadata": {},
   "outputs": [
    {
     "name": "stdout",
     "output_type": "stream",
     "text": [
      "Column name                              Number of close to zero\n",
      "DE_load_actual_entsoe_transparency                     0\n",
      "DE_solar_generation_actual                             0\n",
      "DE_wind_generation_actual                              2\n",
      "DE_wind_offshore_generation_actual                     3\n",
      "DE_wind_onshore_generation_actual                      1\n",
      "GB_UKM_load_actual_entsoe_transparency                 3\n",
      "GB_UKM_solar_generation_actual                         2\n",
      "GB_UKM_wind_generation_actual                          3\n",
      "GB_UKM_wind_offshore_generation_actual                 0\n",
      "GB_UKM_wind_onshore_generation_actual                  7\n",
      "ES_load_actual_entsoe_transparency                     1\n",
      "ES_solar_generation_actual                             4\n",
      "ES_wind_onshore_generation_actual                      0\n",
      "FR_load_actual_entsoe_transparency                     2\n",
      "FR_solar_generation_actual                             0\n",
      "FR_wind_onshore_generation_actual                      0\n",
      "IT_load_actual_entsoe_transparency                     2\n"
     ]
    }
   ],
   "source": [
    "# No zero values\n",
    "tolerance = 1e-4 # change to 1e-5 and see that there is no such values\n",
    "print(f\"{'Column name':<40} {'Number of close to zero':>15}\")\n",
    "\n",
    "for col in train.columns[:-2]:\n",
    "    print(f'{col:<40} {len(train[np.isclose(train[col], 0.0, rtol=tolerance, atol=tolerance)]):>15}')"
   ]
  },
  {
   "cell_type": "code",
   "execution_count": 14,
   "metadata": {},
   "outputs": [
    {
     "data": {
      "text/html": [
       "<div>\n",
       "<style scoped>\n",
       "    .dataframe tbody tr th:only-of-type {\n",
       "        vertical-align: middle;\n",
       "    }\n",
       "\n",
       "    .dataframe tbody tr th {\n",
       "        vertical-align: top;\n",
       "    }\n",
       "\n",
       "    .dataframe thead th {\n",
       "        text-align: right;\n",
       "    }\n",
       "</style>\n",
       "<table border=\"1\" class=\"dataframe\">\n",
       "  <thead>\n",
       "    <tr style=\"text-align: right;\">\n",
       "      <th></th>\n",
       "      <th>DE_load_actual_entsoe_transparency</th>\n",
       "      <th>DE_solar_generation_actual</th>\n",
       "      <th>DE_wind_generation_actual</th>\n",
       "      <th>DE_wind_offshore_generation_actual</th>\n",
       "      <th>DE_wind_onshore_generation_actual</th>\n",
       "      <th>GB_UKM_load_actual_entsoe_transparency</th>\n",
       "      <th>GB_UKM_solar_generation_actual</th>\n",
       "      <th>GB_UKM_wind_generation_actual</th>\n",
       "      <th>GB_UKM_wind_offshore_generation_actual</th>\n",
       "      <th>GB_UKM_wind_onshore_generation_actual</th>\n",
       "      <th>ES_load_actual_entsoe_transparency</th>\n",
       "      <th>ES_solar_generation_actual</th>\n",
       "      <th>ES_wind_onshore_generation_actual</th>\n",
       "      <th>FR_load_actual_entsoe_transparency</th>\n",
       "      <th>FR_solar_generation_actual</th>\n",
       "      <th>FR_wind_onshore_generation_actual</th>\n",
       "      <th>IT_load_actual_entsoe_transparency</th>\n",
       "      <th>IT_solar_generation_actual</th>\n",
       "      <th>IT_wind_onshore_generation_actual</th>\n",
       "    </tr>\n",
       "  </thead>\n",
       "  <tbody>\n",
       "    <tr>\n",
       "      <th>min</th>\n",
       "      <td>-2.50</td>\n",
       "      <td>-0.64</td>\n",
       "      <td>-1.27</td>\n",
       "      <td>-1.40</td>\n",
       "      <td>-1.19</td>\n",
       "      <td>-4.31</td>\n",
       "      <td>-0.65</td>\n",
       "      <td>-1.58</td>\n",
       "      <td>-1.46</td>\n",
       "      <td>-1.58</td>\n",
       "      <td>-2.36</td>\n",
       "      <td>-0.84</td>\n",
       "      <td>-1.71</td>\n",
       "      <td>-2.04</td>\n",
       "      <td>-0.72</td>\n",
       "      <td>-1.16</td>\n",
       "      <td>-2.19</td>\n",
       "      <td>-0.72</td>\n",
       "      <td>-1.37</td>\n",
       "    </tr>\n",
       "    <tr>\n",
       "      <th>25%</th>\n",
       "      <td>-0.84</td>\n",
       "      <td>-0.64</td>\n",
       "      <td>-0.78</td>\n",
       "      <td>-0.92</td>\n",
       "      <td>-0.76</td>\n",
       "      <td>-0.78</td>\n",
       "      <td>-0.65</td>\n",
       "      <td>-0.83</td>\n",
       "      <td>-0.85</td>\n",
       "      <td>-0.84</td>\n",
       "      <td>-0.85</td>\n",
       "      <td>-0.80</td>\n",
       "      <td>-0.78</td>\n",
       "      <td>-0.75</td>\n",
       "      <td>-0.72</td>\n",
       "      <td>-0.71</td>\n",
       "      <td>-0.87</td>\n",
       "      <td>-0.72</td>\n",
       "      <td>-0.83</td>\n",
       "    </tr>\n",
       "    <tr>\n",
       "      <th>50%</th>\n",
       "      <td>-0.03</td>\n",
       "      <td>-0.63</td>\n",
       "      <td>-0.27</td>\n",
       "      <td>-0.10</td>\n",
       "      <td>-0.30</td>\n",
       "      <td>0.10</td>\n",
       "      <td>-0.62</td>\n",
       "      <td>-0.17</td>\n",
       "      <td>-0.19</td>\n",
       "      <td>-0.17</td>\n",
       "      <td>0.04</td>\n",
       "      <td>-0.49</td>\n",
       "      <td>-0.19</td>\n",
       "      <td>-0.14</td>\n",
       "      <td>-0.63</td>\n",
       "      <td>-0.32</td>\n",
       "      <td>-0.07</td>\n",
       "      <td>-0.70</td>\n",
       "      <td>-0.24</td>\n",
       "    </tr>\n",
       "    <tr>\n",
       "      <th>75%</th>\n",
       "      <td>0.89</td>\n",
       "      <td>0.36</td>\n",
       "      <td>0.50</td>\n",
       "      <td>0.79</td>\n",
       "      <td>0.46</td>\n",
       "      <td>0.72</td>\n",
       "      <td>0.39</td>\n",
       "      <td>0.71</td>\n",
       "      <td>0.73</td>\n",
       "      <td>0.71</td>\n",
       "      <td>0.78</td>\n",
       "      <td>0.67</td>\n",
       "      <td>0.60</td>\n",
       "      <td>0.72</td>\n",
       "      <td>0.60</td>\n",
       "      <td>0.38</td>\n",
       "      <td>0.86</td>\n",
       "      <td>0.66</td>\n",
       "      <td>0.64</td>\n",
       "    </tr>\n",
       "    <tr>\n",
       "      <th>max</th>\n",
       "      <td>2.10</td>\n",
       "      <td>3.95</td>\n",
       "      <td>3.71</td>\n",
       "      <td>2.85</td>\n",
       "      <td>3.83</td>\n",
       "      <td>2.73</td>\n",
       "      <td>4.37</td>\n",
       "      <td>3.22</td>\n",
       "      <td>3.19</td>\n",
       "      <td>3.44</td>\n",
       "      <td>2.66</td>\n",
       "      <td>2.60</td>\n",
       "      <td>3.61</td>\n",
       "      <td>3.32</td>\n",
       "      <td>3.75</td>\n",
       "      <td>4.52</td>\n",
       "      <td>2.55</td>\n",
       "      <td>2.92</td>\n",
       "      <td>3.18</td>\n",
       "    </tr>\n",
       "  </tbody>\n",
       "</table>\n",
       "</div>"
      ],
      "text/plain": [
       "     DE_load_actual_entsoe_transparency  DE_solar_generation_actual  \\\n",
       "min                               -2.50                       -0.64   \n",
       "25%                               -0.84                       -0.64   \n",
       "50%                               -0.03                       -0.63   \n",
       "75%                                0.89                        0.36   \n",
       "max                                2.10                        3.95   \n",
       "\n",
       "     DE_wind_generation_actual  DE_wind_offshore_generation_actual  \\\n",
       "min                      -1.27                               -1.40   \n",
       "25%                      -0.78                               -0.92   \n",
       "50%                      -0.27                               -0.10   \n",
       "75%                       0.50                                0.79   \n",
       "max                       3.71                                2.85   \n",
       "\n",
       "     DE_wind_onshore_generation_actual  \\\n",
       "min                              -1.19   \n",
       "25%                              -0.76   \n",
       "50%                              -0.30   \n",
       "75%                               0.46   \n",
       "max                               3.83   \n",
       "\n",
       "     GB_UKM_load_actual_entsoe_transparency  GB_UKM_solar_generation_actual  \\\n",
       "min                                   -4.31                           -0.65   \n",
       "25%                                   -0.78                           -0.65   \n",
       "50%                                    0.10                           -0.62   \n",
       "75%                                    0.72                            0.39   \n",
       "max                                    2.73                            4.37   \n",
       "\n",
       "     GB_UKM_wind_generation_actual  GB_UKM_wind_offshore_generation_actual  \\\n",
       "min                          -1.58                                   -1.46   \n",
       "25%                          -0.83                                   -0.85   \n",
       "50%                          -0.17                                   -0.19   \n",
       "75%                           0.71                                    0.73   \n",
       "max                           3.22                                    3.19   \n",
       "\n",
       "     GB_UKM_wind_onshore_generation_actual  \\\n",
       "min                                  -1.58   \n",
       "25%                                  -0.84   \n",
       "50%                                  -0.17   \n",
       "75%                                   0.71   \n",
       "max                                   3.44   \n",
       "\n",
       "     ES_load_actual_entsoe_transparency  ES_solar_generation_actual  \\\n",
       "min                               -2.36                       -0.84   \n",
       "25%                               -0.85                       -0.80   \n",
       "50%                                0.04                       -0.49   \n",
       "75%                                0.78                        0.67   \n",
       "max                                2.66                        2.60   \n",
       "\n",
       "     ES_wind_onshore_generation_actual  FR_load_actual_entsoe_transparency  \\\n",
       "min                              -1.71                               -2.04   \n",
       "25%                              -0.78                               -0.75   \n",
       "50%                              -0.19                               -0.14   \n",
       "75%                               0.60                                0.72   \n",
       "max                               3.61                                3.32   \n",
       "\n",
       "     FR_solar_generation_actual  FR_wind_onshore_generation_actual  \\\n",
       "min                       -0.72                              -1.16   \n",
       "25%                       -0.72                              -0.71   \n",
       "50%                       -0.63                              -0.32   \n",
       "75%                        0.60                               0.38   \n",
       "max                        3.75                               4.52   \n",
       "\n",
       "     IT_load_actual_entsoe_transparency  IT_solar_generation_actual  \\\n",
       "min                               -2.19                       -0.72   \n",
       "25%                               -0.87                       -0.72   \n",
       "50%                               -0.07                       -0.70   \n",
       "75%                                0.86                        0.66   \n",
       "max                                2.55                        2.92   \n",
       "\n",
       "     IT_wind_onshore_generation_actual  \n",
       "min                              -1.37  \n",
       "25%                              -0.83  \n",
       "50%                              -0.24  \n",
       "75%                               0.64  \n",
       "max                               3.18  "
      ]
     },
     "execution_count": 14,
     "metadata": {},
     "output_type": "execute_result"
    }
   ],
   "source": [
    "train.describe().loc[['min', '25%', '50%', '75%', 'max']].round(2)"
   ]
  },
  {
   "cell_type": "code",
   "execution_count": 15,
   "metadata": {},
   "outputs": [],
   "source": [
    "combined_df.to_csv(\"./datasets/combined_data.csv\")"
   ]
  },
  {
   "cell_type": "code",
   "execution_count": null,
   "metadata": {},
   "outputs": [],
   "source": []
  },
  {
   "cell_type": "code",
   "execution_count": null,
   "metadata": {},
   "outputs": [],
   "source": []
  },
  {
   "cell_type": "markdown",
   "metadata": {},
   "source": []
  },
  {
   "cell_type": "markdown",
   "metadata": {},
   "source": []
  },
  {
   "cell_type": "markdown",
   "metadata": {},
   "source": []
  },
  {
   "cell_type": "markdown",
   "metadata": {},
   "source": [
    "# ARIMA\n",
    "# wind - not seasonal, load, solar -> seasonal"
   ]
  },
  {
   "cell_type": "code",
   "execution_count": 16,
   "metadata": {},
   "outputs": [],
   "source": [
    "train_little = train.iloc[-720:, :]\n",
    "\n",
    "vali_little = vali.iloc[:24, :]\n"
   ]
  },
  {
   "cell_type": "code",
   "execution_count": 17,
   "metadata": {},
   "outputs": [
    {
     "name": "stdout",
     "output_type": "stream",
     "text": [
      "Best ARIMA parameters: (2, 0, 2) (1, 0, 1, 24)\n",
      "0.06484039722236747\n",
      "0.18460830429700179\n"
     ]
    }
   ],
   "source": [
    "from pmdarima.arima import auto_arima\n",
    "from sklearn.metrics import mean_squared_error\n",
    "from sklearn.metrics import mean_absolute_error\n",
    "true = vali_little['DE_solar_generation_actual']\n",
    "\n",
    "model_2 = auto_arima(train_little['DE_solar_generation_actual'], stepwise=True, seasonal=True, m=24, maxiter=10)\n",
    "print(f\"Best ARIMA parameters: {model_2.order} {model_2.seasonal_order}\")\n",
    "forecasts_2, confidence_2 = model_2.predict(n_periods=24, return_conf_int=True)\n",
    "print(mean_squared_error(true, forecasts_2))\n",
    "print(mean_absolute_error(true, forecasts_2))"
   ]
  },
  {
   "cell_type": "code",
   "execution_count": 18,
   "metadata": {},
   "outputs": [
    {
     "name": "stdout",
     "output_type": "stream",
     "text": [
      "Best ARIMA parameters: (0, 1, 3) (2, 0, 2, 24)\n",
      "1.1614016937403366\n",
      "0.9508203784814379\n"
     ]
    }
   ],
   "source": [
    "from pmdarima.arima import auto_arima\n",
    "from sklearn.metrics import mean_squared_error\n",
    "from sklearn.metrics import mean_absolute_error\n",
    "true = vali_little['DE_load_actual_entsoe_transparency']\n",
    "\n",
    "model_2 = auto_arima(train_little['DE_load_actual_entsoe_transparency'], stepwise=True, seasonal=True, m=24, maxiter=10)\n",
    "print(f\"Best ARIMA parameters: {model_2.order} {model_2.seasonal_order}\")\n",
    "forecasts_2, confidence_2 = model_2.predict(n_periods=24, return_conf_int=True)\n",
    "print(mean_squared_error(true, forecasts_2))\n",
    "print(mean_absolute_error(true, forecasts_2))"
   ]
  },
  {
   "cell_type": "code",
   "execution_count": null,
   "metadata": {},
   "outputs": [],
   "source": [
    "# 10 cols\n",
    "# 3 min\n",
    "# 12"
   ]
  },
  {
   "cell_type": "code",
   "execution_count": 37,
   "metadata": {},
   "outputs": [
    {
     "data": {
      "text/plain": [
       "6.0"
      ]
     },
     "execution_count": 37,
     "metadata": {},
     "output_type": "execute_result"
    }
   ],
   "source": [
    "10*3*12/60"
   ]
  },
  {
   "cell_type": "code",
   "execution_count": 16,
   "metadata": {},
   "outputs": [],
   "source": [
    "exog = train[['DE_wind_offshore_generation_actual',\n",
    "       'DE_wind_onshore_generation_actual', 'HourOfDay', 'DayOfWeek']].copy()\n",
    "\n",
    "\n",
    "exog_val = vali[['DE_wind_offshore_generation_actual',\n",
    "       'DE_wind_onshore_generation_actual', 'HourOfDay', 'DayOfWeek']].copy()\n"
   ]
  },
  {
   "cell_type": "code",
   "execution_count": 17,
   "metadata": {},
   "outputs": [],
   "source": [
    "train_little = train.iloc[-720:, :]\n",
    "exog_little = exog.iloc[-720:, :]\n",
    "\n",
    "vali_little = vali.iloc[:24, :]\n",
    "exog_val_little = exog_val.iloc[:24, :]"
   ]
  },
  {
   "cell_type": "code",
   "execution_count": 1,
   "metadata": {},
   "outputs": [
    {
     "ename": "NameError",
     "evalue": "name 'train_little' is not defined",
     "output_type": "error",
     "traceback": [
      "\u001b[0;31m---------------------------------------------------------------------------\u001b[0m",
      "\u001b[0;31mNameError\u001b[0m                                 Traceback (most recent call last)",
      "Cell \u001b[0;32mIn[1], line 2\u001b[0m\n\u001b[1;32m      1\u001b[0m \u001b[38;5;28;01mfrom\u001b[39;00m \u001b[38;5;21;01mpmdarima\u001b[39;00m\u001b[38;5;21;01m.\u001b[39;00m\u001b[38;5;21;01marima\u001b[39;00m \u001b[38;5;28;01mimport\u001b[39;00m auto_arima\n\u001b[0;32m----> 2\u001b[0m model \u001b[38;5;241m=\u001b[39m auto_arima(\u001b[43mtrain_little\u001b[49m[\u001b[38;5;124m'\u001b[39m\u001b[38;5;124mDE_load_actual_entsoe_transparency\u001b[39m\u001b[38;5;124m'\u001b[39m], X\u001b[38;5;241m=\u001b[39mtrain_little[[\u001b[38;5;124m'\u001b[39m\u001b[38;5;124mHourOfDay\u001b[39m\u001b[38;5;124m'\u001b[39m, \u001b[38;5;124m'\u001b[39m\u001b[38;5;124mDayOfWeek\u001b[39m\u001b[38;5;124m'\u001b[39m]], stepwise\u001b[38;5;241m=\u001b[39m\u001b[38;5;28;01mTrue\u001b[39;00m, seasonal\u001b[38;5;241m=\u001b[39m\u001b[38;5;28;01mTrue\u001b[39;00m, m\u001b[38;5;241m=\u001b[39m\u001b[38;5;241m24\u001b[39m, maxiter\u001b[38;5;241m=\u001b[39m\u001b[38;5;241m10\u001b[39m)\n\u001b[1;32m      3\u001b[0m \u001b[38;5;28mprint\u001b[39m(\u001b[38;5;124mf\u001b[39m\u001b[38;5;124m\"\u001b[39m\u001b[38;5;124mBest ARIMA parameters: \u001b[39m\u001b[38;5;132;01m{\u001b[39;00mmodel\u001b[38;5;241m.\u001b[39morder\u001b[38;5;132;01m}\u001b[39;00m\u001b[38;5;124m \u001b[39m\u001b[38;5;132;01m{\u001b[39;00mmodel\u001b[38;5;241m.\u001b[39mseasonal_order\u001b[38;5;132;01m}\u001b[39;00m\u001b[38;5;124m\"\u001b[39m)\n\u001b[1;32m      4\u001b[0m forecasts, confidence \u001b[38;5;241m=\u001b[39m model\u001b[38;5;241m.\u001b[39mpredict(n_periods\u001b[38;5;241m=\u001b[39m\u001b[38;5;241m24\u001b[39m, X\u001b[38;5;241m=\u001b[39mvali_little[[\u001b[38;5;124m'\u001b[39m\u001b[38;5;124mHourOfDay\u001b[39m\u001b[38;5;124m'\u001b[39m, \u001b[38;5;124m'\u001b[39m\u001b[38;5;124mDayOfWeek\u001b[39m\u001b[38;5;124m'\u001b[39m]], return_conf_int\u001b[38;5;241m=\u001b[39m\u001b[38;5;28;01mTrue\u001b[39;00m)\n",
      "\u001b[0;31mNameError\u001b[0m: name 'train_little' is not defined"
     ]
    }
   ],
   "source": [
    "from pmdarima.arima import auto_arima\n",
    "model = auto_arima(train_little['DE_load_actual_entsoe_transparency'], X=train_little[['HourOfDay', 'DayOfWeek']], stepwise=True, seasonal=True, m=24, maxiter=10)\n",
    "print(f\"Best ARIMA parameters: {model.order} {model.seasonal_order}\")\n",
    "forecasts, confidence = model.predict(n_periods=24, X=vali_little[['HourOfDay', 'DayOfWeek']], return_conf_int=True)"
   ]
  },
  {
   "cell_type": "code",
   "execution_count": 26,
   "metadata": {},
   "outputs": [
    {
     "name": "stdout",
     "output_type": "stream",
     "text": [
      "Best ARIMA parameters: (2, 1, 0) (2, 0, 2, 24)\n"
     ]
    }
   ],
   "source": [
    "model = auto_arima(train_little['DE_wind_generation_actual'], X=train_little[['HourOfDay', 'DayOfWeek']], stepwise=True, seasonal=True, m=24, maxiter=10)\n",
    "print(f\"Best ARIMA parameters: {model.order} {model.seasonal_order}\")\n",
    "forecasts, confidence = model.predict(n_periods=24, X=vali_little[['HourOfDay', 'DayOfWeek']], return_conf_int=True)"
   ]
  },
  {
   "cell_type": "code",
   "execution_count": 32,
   "metadata": {},
   "outputs": [
    {
     "name": "stdout",
     "output_type": "stream",
     "text": [
      "Best ARIMA parameters: (3, 0, 1) (1, 0, 1, 24)\n"
     ]
    }
   ],
   "source": [
    "model = auto_arima(train_little['DE_solar_generation_actual'], X=train_little[['HourOfDay', 'DayOfWeek']], stepwise=True, seasonal=True, m=24, maxiter=10)\n",
    "print(f\"Best ARIMA parameters: {model.order} {model.seasonal_order}\")\n",
    "forecasts, confidence = model.predict(n_periods=24, X=vali_little[['HourOfDay', 'DayOfWeek']], return_conf_int=True)"
   ]
  },
  {
   "cell_type": "code",
   "execution_count": 33,
   "metadata": {},
   "outputs": [
    {
     "name": "stdout",
     "output_type": "stream",
     "text": [
      "0.10596604835547496\n",
      "0.2553308275949591\n"
     ]
    }
   ],
   "source": [
    "# true = vali_little['DE_load_actual_entsoe_transparency']\n",
    "#true = vali_little['DE_wind_generation_actual']\n",
    "true = vali_little['DE_solar_generation_actual']\n",
    "from sklearn.metrics import mean_squared_error\n",
    "print(mean_squared_error(true, forecasts))\n",
    "from sklearn.metrics import mean_absolute_error\n",
    "print(mean_absolute_error(true, forecasts))"
   ]
  },
  {
   "cell_type": "code",
   "execution_count": 28,
   "metadata": {},
   "outputs": [
    {
     "name": "stdout",
     "output_type": "stream",
     "text": [
      "1.2567079646334218\n",
      "0.9953259997538365\n"
     ]
    }
   ],
   "source": [
    "from sklearn.metrics import mean_squared_error\n",
    "print(mean_squared_error(true, forecasts))\n",
    "from sklearn.metrics import mean_absolute_error\n",
    "print(mean_absolute_error(true, forecasts))\n",
    "# load\n",
    "# 1.392177232965409\n",
    "# 1.0642319788594152"
   ]
  },
  {
   "cell_type": "code",
   "execution_count": 29,
   "metadata": {},
   "outputs": [
    {
     "name": "stdout",
     "output_type": "stream",
     "text": [
      "Best ARIMA parameters: (2, 1, 1) (2, 0, 2, 24)\n",
      "1.2490368013501036\n",
      "0.9923866808261081\n"
     ]
    }
   ],
   "source": [
    "model_2 = auto_arima(train_little['DE_wind_generation_actual'], stepwise=True, seasonal=True, m=24, maxiter=10)\n",
    "print(f\"Best ARIMA parameters: {model_2.order} {model_2.seasonal_order}\")\n",
    "forecasts_2, confidence_2 = model_2.predict(n_periods=24, return_conf_int=True)\n",
    "print(mean_squared_error(true, forecasts_2))\n",
    "print(mean_absolute_error(true, forecasts_2))"
   ]
  },
  {
   "cell_type": "code",
   "execution_count": 34,
   "metadata": {},
   "outputs": [
    {
     "name": "stdout",
     "output_type": "stream",
     "text": [
      "Best ARIMA parameters: (2, 0, 2) (1, 0, 1, 24)\n",
      "0.06484039722236747\n",
      "0.18460830429700179\n"
     ]
    }
   ],
   "source": [
    "model_2 = auto_arima(train_little['DE_solar_generation_actual'], stepwise=True, seasonal=True, m=24, maxiter=10)\n",
    "print(f\"Best ARIMA parameters: {model_2.order} {model_2.seasonal_order}\")\n",
    "forecasts_2, confidence_2 = model_2.predict(n_periods=24, return_conf_int=True)\n",
    "print(mean_squared_error(true, forecasts_2))\n",
    "print(mean_absolute_error(true, forecasts_2))"
   ]
  },
  {
   "cell_type": "code",
   "execution_count": 35,
   "metadata": {},
   "outputs": [
    {
     "name": "stdout",
     "output_type": "stream",
     "text": [
      "Best ARIMA parameters: (2, 0, 3) (0, 0, 0, 0)\n",
      "0.5133865127341192\n",
      "0.6258638083755167\n"
     ]
    }
   ],
   "source": [
    "model_3 = auto_arima(train_little['DE_solar_generation_actual'], maxiter=10)\n",
    "print(f\"Best ARIMA parameters: {model_3.order} {model_3.seasonal_order}\")\n",
    "forecasts_3, confidence_3 = model_3.predict(n_periods=24, return_conf_int=True)\n",
    "print(mean_squared_error(true, forecasts_3))\n",
    "print(mean_absolute_error(true, forecasts_3))"
   ]
  },
  {
   "cell_type": "code",
   "execution_count": 31,
   "metadata": {},
   "outputs": [
    {
     "name": "stdout",
     "output_type": "stream",
     "text": [
      "Best ARIMA parameters: (2, 1, 1) (0, 0, 0, 0)\n",
      "0.6958425163681312\n",
      "0.7342671018513087\n"
     ]
    }
   ],
   "source": [
    "model_3 = auto_arima(train_little['DE_wind_generation_actual'], maxiter=10)\n",
    "print(f\"Best ARIMA parameters: {model_3.order} {model_3.seasonal_order}\")\n",
    "forecasts_3, confidence_3 = model_3.predict(n_periods=24, return_conf_int=True)\n",
    "print(mean_squared_error(true, forecasts_3))\n",
    "print(mean_absolute_error(true, forecasts_3))\n"
   ]
  },
  {
   "cell_type": "code",
   "execution_count": 22,
   "metadata": {},
   "outputs": [
    {
     "name": "stdout",
     "output_type": "stream",
     "text": [
      "Best ARIMA parameters: (0, 1, 3) (2, 0, 2, 24)\n"
     ]
    }
   ],
   "source": [
    "model_2 = auto_arima(train_little['DE_load_actual_entsoe_transparency'], stepwise=True, seasonal=True, m=24, maxiter=10)\n",
    "print(f\"Best ARIMA parameters: {model_2.order} {model_2.seasonal_order}\")\n",
    "forecasts_2, confidence_2 = model_2.predict(n_periods=24, return_conf_int=True)"
   ]
  },
  {
   "cell_type": "code",
   "execution_count": 23,
   "metadata": {},
   "outputs": [
    {
     "name": "stdout",
     "output_type": "stream",
     "text": [
      "1.1614016937403366\n",
      "0.9508203784814379\n"
     ]
    }
   ],
   "source": [
    "print(mean_squared_error(true, forecasts_2))\n",
    "print(mean_absolute_error(true, forecasts_2))"
   ]
  },
  {
   "cell_type": "code",
   "execution_count": 24,
   "metadata": {},
   "outputs": [
    {
     "name": "stdout",
     "output_type": "stream",
     "text": [
      "Best ARIMA parameters: (4, 1, 4) (0, 0, 0, 0)\n"
     ]
    }
   ],
   "source": [
    "model_3 = auto_arima(train_little['DE_load_actual_entsoe_transparency'], maxiter=10)\n",
    "print(f\"Best ARIMA parameters: {model_3.order} {model_3.seasonal_order}\")\n",
    "forecasts_3, confidence_3 = model_3.predict(n_periods=24, return_conf_int=True)"
   ]
  },
  {
   "cell_type": "code",
   "execution_count": 25,
   "metadata": {},
   "outputs": [
    {
     "name": "stdout",
     "output_type": "stream",
     "text": [
      "2.398619931292829\n",
      "1.395907471337363\n"
     ]
    }
   ],
   "source": [
    "print(mean_squared_error(true, forecasts_3))\n",
    "print(mean_absolute_error(true, forecasts_3))"
   ]
  },
  {
   "cell_type": "code",
   "execution_count": null,
   "metadata": {},
   "outputs": [],
   "source": []
  },
  {
   "cell_type": "code",
   "execution_count": 82,
   "metadata": {},
   "outputs": [
    {
     "name": "stdout",
     "output_type": "stream",
     "text": [
      "Best ARIMA parameters: (0, 0, 0) (0, 0, 0, 24)\n"
     ]
    }
   ],
   "source": [
    "from pmdarima.arima import auto_arima\n",
    "model = auto_arima(train_little['DE_wind_generation_actual'], X=exog_little, stepwise=True, seasonal=True, m=24, maxiter=10)\n",
    "print(f\"Best ARIMA parameters: {model.order} {model.seasonal_order}\")\n",
    "forecasts, confidence = model.predict(n_periods=24, X=exog_val_little, return_conf_int=True)\n",
    "# Best ARIMA parameters: (1, 0, 3) (2, 0, 0, 24)\n",
    "# Best ARIMA parameters: (1, 1, 1) (2, 0, 1, 24)\n",
    "# 1 min 23.8 s"
   ]
  },
  {
   "cell_type": "code",
   "execution_count": 85,
   "metadata": {},
   "outputs": [],
   "source": [
    "true = vali_little['DE_load_actual_entsoe_transparency']"
   ]
  },
  {
   "cell_type": "code",
   "execution_count": 87,
   "metadata": {},
   "outputs": [
    {
     "name": "stdout",
     "output_type": "stream",
     "text": [
      "0.9644889942407472\n",
      "0.8984540151195102\n"
     ]
    }
   ],
   "source": [
    "from sklearn.metrics import mean_squared_error\n",
    "print(mean_squared_error(true, forecasts))\n",
    "from sklearn.metrics import mean_absolute_error\n",
    "print(mean_absolute_error(true, forecasts))\n",
    "#0.25075572437818033\n",
    "#0.4445616873286631\n",
    " "
   ]
  },
  {
   "cell_type": "code",
   "execution_count": 88,
   "metadata": {},
   "outputs": [
    {
     "name": "stdout",
     "output_type": "stream",
     "text": [
      "Best ARIMA parameters: (1, 1, 1) (2, 0, 1, 24)\n"
     ]
    }
   ],
   "source": [
    "model_2 = auto_arima(train_little['DE_wind_generation_actual'], stepwise=True, seasonal=True, m=24, maxiter=10)\n",
    "print(f\"Best ARIMA parameters: {model_2.order} {model_2.seasonal_order}\")\n",
    "forecasts_2, confidence_2 = model_2.predict(n_periods=24, return_conf_int=True)"
   ]
  },
  {
   "cell_type": "code",
   "execution_count": 89,
   "metadata": {},
   "outputs": [
    {
     "name": "stdout",
     "output_type": "stream",
     "text": [
      "0.7899957914056622\n",
      "0.8281696675591402\n"
     ]
    }
   ],
   "source": [
    "print(mean_squared_error(true, forecasts_2))\n",
    "print(mean_absolute_error(true, forecasts_2))"
   ]
  },
  {
   "cell_type": "code",
   "execution_count": 90,
   "metadata": {},
   "outputs": [
    {
     "name": "stdout",
     "output_type": "stream",
     "text": [
      "Best ARIMA parameters: (1, 1, 1) (0, 0, 0, 0)\n"
     ]
    }
   ],
   "source": [
    "model_3 = auto_arima(train_little['DE_wind_generation_actual'], maxiter=10)\n",
    "print(f\"Best ARIMA parameters: {model_3.order} {model_3.seasonal_order}\")\n",
    "forecasts_3, confidence_3 = model_3.predict(n_periods=24, return_conf_int=True)"
   ]
  },
  {
   "cell_type": "code",
   "execution_count": 91,
   "metadata": {},
   "outputs": [
    {
     "name": "stdout",
     "output_type": "stream",
     "text": [
      "0.6997970089410469\n",
      "0.7787759402746929\n"
     ]
    }
   ],
   "source": [
    "print(mean_squared_error(true, forecasts_3))\n",
    "print(mean_absolute_error(true, forecasts_3))"
   ]
  },
  {
   "cell_type": "code",
   "execution_count": null,
   "metadata": {},
   "outputs": [],
   "source": [
    "model.summary()"
   ]
  },
  {
   "cell_type": "code",
   "execution_count": null,
   "metadata": {},
   "outputs": [],
   "source": [
    "model_2.summary()"
   ]
  },
  {
   "cell_type": "code",
   "execution_count": null,
   "metadata": {},
   "outputs": [],
   "source": []
  },
  {
   "cell_type": "code",
   "execution_count": null,
   "metadata": {},
   "outputs": [],
   "source": []
  },
  {
   "cell_type": "code",
   "execution_count": null,
   "metadata": {},
   "outputs": [],
   "source": []
  },
  {
   "cell_type": "code",
   "execution_count": null,
   "metadata": {},
   "outputs": [],
   "source": []
  },
  {
   "cell_type": "code",
   "execution_count": null,
   "metadata": {},
   "outputs": [],
   "source": []
  },
  {
   "cell_type": "markdown",
   "metadata": {},
   "source": [
    "Add exogenous variables."
   ]
  },
  {
   "cell_type": "code",
   "execution_count": null,
   "metadata": {},
   "outputs": [],
   "source": [
    "train_exog, vali_exog, test_exog = add_exog_vars(time_series.iloc[:, -6:], train_size, val_size)\n"
   ]
  },
  {
   "cell_type": "code",
   "execution_count": null,
   "metadata": {},
   "outputs": [],
   "source": [
    "from pmdarima.arima import auto_arima\n",
    "model = auto_arima(train['DE_load_actual_entsoe_transparency'], stepwise=True, seasonal=True, m=24, maxiter=10, exogenous= )\n",
    "print(f\"Best ARIMA parameters: {model.order} {model.seasonal_order}\")\n",
    "forecasts, confidence = model.predict(n_periods=24, return_conf_int=True)"
   ]
  },
  {
   "cell_type": "code",
   "execution_count": null,
   "metadata": {},
   "outputs": [],
   "source": []
  },
  {
   "cell_type": "code",
   "execution_count": null,
   "metadata": {},
   "outputs": [],
   "source": []
  },
  {
   "cell_type": "markdown",
   "metadata": {},
   "source": [
    "# Distribution"
   ]
  },
  {
   "cell_type": "code",
   "execution_count": null,
   "metadata": {},
   "outputs": [],
   "source": [
    "train=28321\n",
    "val=6577\n",
    "test=8713"
   ]
  },
  {
   "cell_type": "code",
   "execution_count": null,
   "metadata": {},
   "outputs": [],
   "source": [
    "from sklearn.preprocessing import StandardScaler\n",
    "import pandas as pd\n",
    "def split_scale_dataset(data, train_size, val_size, test_size=None):\n",
    "\n",
    "    \"\"\"\n",
    "    data (pd.DataFrame): Dataframe with time series data.\n",
    "    train_size, test_size, val_size (int): number of days in train, \n",
    "                                            test and validation datasets.\n",
    "\n",
    "    return: Scaled datasets\n",
    "   \n",
    "    \n",
    "    num_train = train_size*24\n",
    "    if test_size is not None:\n",
    "        num_test = test_size*24\n",
    "    num_vali = val_size*24\n",
    "\"\"\"\n",
    "    num_train = train_size\n",
    "    num_vali = val_size\n",
    "    train_data = data.iloc[:num_train] # 0, a-1\n",
    "    vali_data = data.iloc[num_train: num_train + num_vali] # a, a+b-1\n",
    "    test_data = data.iloc[num_train + num_vali:] # a+b\n",
    "\n",
    "    assert(len(data) == len(train_data) + len(test_data) + len(vali_data))\n",
    "\n",
    "    print(f'{len(train_data)} observations in the train dataset.\\n {len(test_data)} observations in the test dataset.\\n {len(vali_data)} observations in the validation dataset.')\n",
    "\n",
    "    # initialize scaler object\n",
    "    scaler = StandardScaler()\n",
    "\n",
    "    # scale data\n",
    "    train_data_sc = scaler.fit_transform(train_data)\n",
    "    vali_data_sc = scaler.transform(vali_data)\n",
    "    test_data_sc = scaler.transform(test_data)\n",
    "\n",
    "    train_data_sc = pd.DataFrame(train_data_sc, columns=train_data.columns, index=train_data.index)\n",
    "    vali_data_sc = pd.DataFrame(vali_data_sc, columns=vali_data.columns, index=vali_data.index)\n",
    "    test_data_sc = pd.DataFrame(test_data_sc, columns=test_data.columns, index=test_data.index)\n",
    "\n",
    "    return train_data_sc, vali_data_sc, test_data_sc\n",
    "\n",
    "#time_series = pd.read_csv(\"./datasets/df_most_important_columns.csv\", index_col=0, parse_dates=True)\n",
    "#train, vali, test = split_scale_dataset(data=time_series, train_size=train, val_size=val)"
   ]
  },
  {
   "cell_type": "code",
   "execution_count": null,
   "metadata": {},
   "outputs": [],
   "source": [
    "import seaborn as sns\n",
    "import matplotlib.pyplot as plt\n",
    "sns.histplot(train[\"DE_load_actual_entsoe_transparency\"])"
   ]
  },
  {
   "cell_type": "code",
   "execution_count": null,
   "metadata": {},
   "outputs": [],
   "source": [
    "train.describe().round(2)"
   ]
  },
  {
   "cell_type": "code",
   "execution_count": null,
   "metadata": {},
   "outputs": [],
   "source": [
    "sns.histplot(vali[\"DE_load_actual_entsoe_transparency\"])"
   ]
  },
  {
   "cell_type": "code",
   "execution_count": null,
   "metadata": {},
   "outputs": [],
   "source": [
    "vali.describe().round(2)"
   ]
  },
  {
   "cell_type": "code",
   "execution_count": null,
   "metadata": {},
   "outputs": [],
   "source": [
    "sns.histplot(test[\"DE_load_actual_entsoe_transparency\"])"
   ]
  },
  {
   "cell_type": "code",
   "execution_count": null,
   "metadata": {},
   "outputs": [],
   "source": [
    "test.describe().round(2)"
   ]
  },
  {
   "cell_type": "code",
   "execution_count": null,
   "metadata": {},
   "outputs": [],
   "source": []
  },
  {
   "cell_type": "markdown",
   "metadata": {},
   "source": [
    "# Distribution ETTH1"
   ]
  },
  {
   "cell_type": "code",
   "execution_count": null,
   "metadata": {},
   "outputs": [],
   "source": [
    "import pandas as pd\n",
    "time_series = pd.read_csv(\"./datasets/ETTh1.csv\", index_col=0, parse_dates=True)\n",
    "train, vali, test = split_scale_dataset(data=time_series, train_size=8521, val_size=2857)"
   ]
  },
  {
   "cell_type": "code",
   "execution_count": null,
   "metadata": {},
   "outputs": [],
   "source": []
  },
  {
   "cell_type": "code",
   "execution_count": null,
   "metadata": {},
   "outputs": [],
   "source": []
  },
  {
   "cell_type": "code",
   "execution_count": null,
   "metadata": {},
   "outputs": [],
   "source": []
  },
  {
   "cell_type": "code",
   "execution_count": null,
   "metadata": {},
   "outputs": [],
   "source": []
  },
  {
   "cell_type": "code",
   "execution_count": null,
   "metadata": {},
   "outputs": [],
   "source": [
    "import os\n",
    "current_path = os.getcwd() + \"/datasets/\"\n",
    "dataset = 'ETTh1.csv'\n",
    "\n",
    "!python -u ./TSLibrary/run.py \\\n",
    "  --task_name long_term_forecast \\\n",
    "  --is_training 1 \\\n",
    "  --root_path $current_path \\\n",
    "  --data_path $dataset \\\n",
    "  --model_id 1 \\\n",
    "  --model \"Informer\" \\\n",
    "  --data custom \\\n",
    "  --features M \\\n",
    "  --seq_len 96 \\\n",
    "  --label_len 48 \\\n",
    "  --pred_len 24 \\\n",
    "  --e_layers 2 \\\n",
    "  --d_layers 1 \\\n",
    "  --factor 3 \\\n",
    "  --enc_in 7 \\\n",
    "  --dec_in 7 \\\n",
    "  --c_out 7 \\\n",
    "  --des 'Exp' \\\n",
    "  --itr 2"
   ]
  }
 ],
 "metadata": {
  "kernelspec": {
   "display_name": "Python 3",
   "language": "python",
   "name": "python3"
  },
  "language_info": {
   "codemirror_mode": {
    "name": "ipython",
    "version": 3
   },
   "file_extension": ".py",
   "mimetype": "text/x-python",
   "name": "python",
   "nbconvert_exporter": "python",
   "pygments_lexer": "ipython3",
   "version": "3.9.16"
  }
 },
 "nbformat": 4,
 "nbformat_minor": 2
}
