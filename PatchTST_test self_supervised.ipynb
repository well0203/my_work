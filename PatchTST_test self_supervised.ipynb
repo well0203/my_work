{
 "cells": [
  {
   "cell_type": "markdown",
   "metadata": {},
   "source": [
    "# Pretrain \n",
    "## Epochs = 10\n",
    "## Mask_ratio = 40%"
   ]
  },
  {
   "cell_type": "code",
   "execution_count": 4,
   "metadata": {},
   "outputs": [
    {
     "name": "stdout",
     "output_type": "stream",
     "text": [
      "args: Namespace(dset_pretrain='italy', context_points=512, target_points=96, batch_size=64, num_workers=0, scaler='standard', features='M', patch_len=12, stride=12, revin=1, n_layers=3, n_heads=16, d_model=128, d_ff=512, dropout=0.2, head_dropout=0.2, mask_ratio=0.4, n_epochs_pretrain=10, lr=0.0001, pretrained_model_id=1, model_type='based_model')\n",
      "number of patches: 42\n",
      "number of model params 603404\n",
      "suggested_lr 0.00014174741629268049\n",
      "number of patches: 42\n",
      "number of model params 603404\n",
      "          epoch     train_loss     valid_loss           time\n",
      "Better model found at epoch 0 with valid_loss value: 0.8890252102895149.\n",
      "              0       0.946658       0.889025          00:11\n",
      "Better model found at epoch 1 with valid_loss value: 0.8806361716304774.\n",
      "              1       0.872414       0.880636          00:11\n",
      "Better model found at epoch 2 with valid_loss value: 0.877008219018975.\n",
      "              2       0.861374       0.877008          00:10\n",
      "Better model found at epoch 3 with valid_loss value: 0.8748825526946401.\n",
      "              3       0.858027       0.874883          00:05\n",
      "Better model found at epoch 4 with valid_loss value: 0.497122502812011.\n",
      "              4       0.715936       0.497123          00:05\n",
      "Better model found at epoch 5 with valid_loss value: 0.4862612251198161.\n",
      "              5       0.496620       0.486261          00:11\n",
      "Better model found at epoch 6 with valid_loss value: 0.48153830753618937.\n",
      "              6       0.488802       0.481538          00:11\n",
      "Better model found at epoch 7 with valid_loss value: 0.47956875366784035.\n",
      "              7       0.484890       0.479569          00:11\n",
      "              8       0.483239       0.479651          00:11\n",
      "              9       0.483490       0.479979          00:11\n",
      "pretraining completed\n"
     ]
    }
   ],
   "source": [
    "import os \n",
    "os.environ[\"CUDA_VISIBLE_DEVICES\"] = \"2\"\n",
    "\n",
    "!python PatchTST-main/PatchTST_self_supervised/patchtst_pretrain.py --dset italy --mask_ratio 0.4"
   ]
  },
  {
   "cell_type": "markdown",
   "metadata": {},
   "source": [
    "# Finetune\n",
    "## "
   ]
  },
  {
   "cell_type": "code",
   "execution_count": 13,
   "metadata": {},
   "outputs": [
    {
     "name": "stdout",
     "output_type": "stream",
     "text": [
      "args: Namespace(is_finetune=1, is_linear_probe=0, dset_finetune='italy', context_points=512, target_points=96, batch_size=64, num_workers=0, scaler='standard', features='M', patch_len=12, stride=12, revin=1, n_layers=3, n_heads=16, d_model=128, d_ff=256, dropout=0.2, head_dropout=0.2, n_epochs_finetune=20, lr=0.0001, pretrained_model='/vol/cs-hu/riabchuv/my_work/saved_models/italy/masked_patchtst/based_model/patchtst_pretrained_cw512_patch12_stride12_epochs-pretrain10_mask0.4_model1.pth', finetuned_model_id=1, model_type='based_model')\n",
      "number of patches: 42\n",
      "number of model params 920672\n",
      "check unmatched_layers: ['backbone.encoder.layers.0.ff.0.weight', 'backbone.encoder.layers.0.ff.0.bias', 'backbone.encoder.layers.0.ff.3.weight', 'backbone.encoder.layers.1.ff.0.weight', 'backbone.encoder.layers.1.ff.0.bias', 'backbone.encoder.layers.1.ff.3.weight', 'backbone.encoder.layers.2.ff.0.weight', 'backbone.encoder.layers.2.ff.0.bias', 'backbone.encoder.layers.2.ff.3.weight']\n",
      "suggested_lr 6.73415065775082e-05\n",
      "end-to-end finetuning\n",
      "number of patches: 42\n",
      "number of model params 920672\n",
      "check unmatched_layers: ['backbone.encoder.layers.0.ff.0.weight', 'backbone.encoder.layers.0.ff.0.bias', 'backbone.encoder.layers.0.ff.3.weight', 'backbone.encoder.layers.1.ff.0.weight', 'backbone.encoder.layers.1.ff.0.bias', 'backbone.encoder.layers.1.ff.3.weight', 'backbone.encoder.layers.2.ff.0.weight', 'backbone.encoder.layers.2.ff.0.bias', 'backbone.encoder.layers.2.ff.3.weight']\n",
      "Finetune the head\n",
      "          epoch     train_loss     valid_loss      valid_mse           time\n",
      "Better model found at epoch 0 with valid_loss value: 0.403901168512813.\n",
      "              0       0.743600       0.403901       0.403901          00:02\n",
      "Better model found at epoch 1 with valid_loss value: 0.35917777716647104.\n",
      "              1       0.521436       0.359178       0.359178          00:02\n",
      "Better model found at epoch 2 with valid_loss value: 0.34256051172486307.\n",
      "              2       0.457230       0.342561       0.342561          00:02\n",
      "Better model found at epoch 3 with valid_loss value: 0.3362277560763889.\n",
      "              3       0.412626       0.336228       0.336228          00:02\n",
      "Better model found at epoch 4 with valid_loss value: 0.32974446614583336.\n",
      "              4       0.386123       0.329744       0.329745          00:02\n",
      "Better model found at epoch 5 with valid_loss value: 0.3296442500489045.\n",
      "              5       0.370989       0.329644       0.329644          00:02\n",
      "Better model found at epoch 6 with valid_loss value: 0.3279339284404343.\n",
      "              6       0.362254       0.327934       0.327934          00:02\n",
      "Better model found at epoch 7 with valid_loss value: 0.3267856269561815.\n",
      "              7       0.357197       0.326786       0.326786          00:02\n",
      "Better model found at epoch 8 with valid_loss value: 0.32577697085289514.\n",
      "              8       0.355129       0.325777       0.325777          00:02\n",
      "              9       0.354002       0.325799       0.325799          00:02\n",
      "Finetune the entire network\n",
      "          epoch     train_loss     valid_loss      valid_mse           time\n",
      "Better model found at epoch 0 with valid_loss value: 0.3235637730462637.\n",
      "              0       0.352674       0.323564       0.323564          00:11\n",
      "Better model found at epoch 1 with valid_loss value: 0.32085809125586856.\n",
      "              1       0.348410       0.320858       0.320858          00:11\n",
      "Better model found at epoch 2 with valid_loss value: 0.31694962526897497.\n",
      "              2       0.342327       0.316950       0.316950          00:11\n",
      "Better model found at epoch 3 with valid_loss value: 0.3143350854912461.\n",
      "              3       0.335097       0.314335       0.314335          00:11\n",
      "Better model found at epoch 4 with valid_loss value: 0.30828051261125783.\n",
      "              4       0.327483       0.308281       0.308280          00:11\n",
      "              5       0.319835       0.308295       0.308295          00:11\n",
      "Better model found at epoch 6 with valid_loss value: 0.30404717530443076.\n",
      "              6       0.314335       0.304047       0.304047          00:05\n",
      "              7       0.309128       0.304518       0.304518          00:05\n",
      "              8       0.305043       0.306243       0.306243          00:11\n",
      "              9       0.301397       0.306559       0.306559          00:11\n",
      "             10       0.298410       0.306566       0.306566          00:11\n",
      "             11       0.295523       0.306591       0.306591          00:10\n",
      "             12       0.292965       0.308395       0.308395          00:10\n",
      "             13       0.291564       0.309531       0.309530          00:05\n",
      "             14       0.289772       0.309961       0.309961          00:05\n",
      "             15       0.289394       0.312038       0.312038          00:05\n",
      "             16       0.287839       0.309814       0.309814          00:05\n",
      "             17       0.287331       0.310303       0.310303          00:05\n",
      "             18       0.287319       0.310042       0.310042          00:05\n",
      "             19       0.286649       0.311037       0.311037          00:05\n",
      "finetune completed\n",
      "number of patches: 42\n",
      "number of model params 920672\n",
      "score: [array(0.34357268, dtype=float32), array(0.37582868, dtype=float32)]\n",
      "----------- Complete! -----------\n"
     ]
    }
   ],
   "source": [
    "!python PatchTST-main/PatchTST_self_supervised/patchtst_finetune.py --dset italy --is_finetune 1 --pretrained_model /vol/cs-hu/riabchuv/my_work/saved_models/italy/masked_patchtst/based_model/patchtst_pretrained_cw512_patch12_stride12_epochs-pretrain10_mask0.4_model1.pth"
   ]
  }
 ],
 "metadata": {
  "kernelspec": {
   "display_name": "val",
   "language": "python",
   "name": "python3"
  },
  "language_info": {
   "codemirror_mode": {
    "name": "ipython",
    "version": 3
   },
   "file_extension": ".py",
   "mimetype": "text/x-python",
   "name": "python",
   "nbconvert_exporter": "python",
   "pygments_lexer": "ipython3",
   "version": "3.11.5"
  }
 },
 "nbformat": 4,
 "nbformat_minor": 2
}
