{
 "cells": [
  {
   "cell_type": "markdown",
   "metadata": {},
   "source": [
    "<details>\n",
    "<summary>Table of Contents</summary>\n",
    "\n",
    "- [1. UTC to local time](#1-utc-to-local-time)\n",
    "- [2. Split and scale data](#2-split-and-scale-data)\n",
    "\n",
    "</details>\n",
    "\n",
    "\n",
    "\n",
    "Here we split the whole dataset into 5 datasets for each country (now they contain only their country related columns). In addition we **truncate outliers** and scale the data (for ARIMA, because other models do that within the code). We perform scaling here to analyse the values. In such a way we can then choose appropriate evaluation metrics etc."
   ]
  },
  {
   "cell_type": "markdown",
   "metadata": {},
   "source": [
    "# 1. UTC to local time"
   ]
  },
  {
   "cell_type": "code",
   "execution_count": 2,
   "metadata": {},
   "outputs": [],
   "source": [
    "import pandas as pd\n",
    "import numpy as np\n",
    "import os\n",
    "from datetime import date\n",
    "from utils.helper import split_scale_dataset"
   ]
  },
  {
   "cell_type": "code",
   "execution_count": 3,
   "metadata": {},
   "outputs": [],
   "source": [
    "# Create a folder named \"datasets\" if it doesn't exist\n",
    "folder_name = \"datasets\"\n",
    "if not os.path.exists(folder_name):\n",
    "    os.makedirs(folder_name)\n",
    "\n",
    "df = pd.read_csv(\"./datasets/top_5_countries.csv\", index_col=0, parse_dates=True)"
   ]
  },
  {
   "cell_type": "markdown",
   "metadata": {},
   "source": [
    "For each country revert UTC time to local time. Then make so that each dataset starts and ends at the same time."
   ]
  },
  {
   "cell_type": "code",
   "execution_count": 4,
   "metadata": {},
   "outputs": [],
   "source": [
    "top_5_countries = ['DE', 'GB', 'ES', 'FR', 'IT']\n",
    "utc_converter = {'DE': 'Europe/Berlin', \n",
    "                 'GB': 'Europe/London', \n",
    "                 'ES': 'Europe/Madrid', \n",
    "                 'FR': 'Europe/Paris', \n",
    "                 'IT': 'Europe/Rome'}\n",
    "\n",
    "# Split and save the datasets\n",
    "for country_prefix in top_5_countries:\n",
    "    # Filter columns with the specified prefix\n",
    "    country_columns = [col for col in df.columns if col.startswith(country_prefix)]\n",
    "    country_df = df[country_columns].copy()\n",
    "\n",
    "    # Convert UTC to local time\n",
    "    country_df.index = country_df.index.tz_convert(utc_converter[country_prefix]).tz_localize(None)\n",
    "    \n",
    "    # We drop first day and last day, because of missing values\n",
    "    first_day = country_df.index.date.min()\n",
    "    last_day = date(2020, 9, 30)\n",
    "\n",
    "    # Drop all observations from the first and last days\n",
    "    country_df = country_df[(country_df.index.date > first_day) & (country_df.index.date < last_day)]\n",
    "\n",
    "    # Make 24 hours in each day (after daylight savings time etc) we have 23/25 hours\n",
    "    # in other words - irregular intervals.\n",
    "    # We will change it to have 24 hours in each day (simplest method). Then we do not break \n",
    "    # seasonalities and patterns, because at night load is small.\n",
    "    # Time changes: https://stats.stackexchange.com/questions/45046/daylight-saving-time-in-time-series-modelling-e-g-load-data\n",
    "    \n",
    "    # Remove duplicated timestamps\n",
    "    country_df = country_df[~country_df.index.duplicated(keep='first')]\n",
    "\n",
    "    # Resample to hourly frequency to ensure all hours are included\n",
    "    country_df = country_df.resample('H').asfreq()\n",
    "\n",
    "    # Fill missing values with average of the previous and next value\n",
    "    country_df = country_df.interpolate(method='linear', limit=1)\n",
    "    \n",
    "    # Save the DataFrame to a CSV file\n",
    "    file_name = f\"./datasets/{country_prefix}_data.csv\"\n",
    "    country_df.to_csv(file_name)\n"
   ]
  },
  {
   "cell_type": "markdown",
   "metadata": {},
   "source": [
    "# 2. Split and scale data\n",
    "\n",
    "Because of summer and winter time changes, we have not full days now."
   ]
  },
  {
   "cell_type": "code",
   "execution_count": 5,
   "metadata": {},
   "outputs": [],
   "source": [
    "de_df, gb_df, es_df, fr_df, it_df = [pd.read_csv(f\"./datasets/{country}_data.csv\", index_col=0, parse_dates=True) for country in top_5_countries] "
   ]
  },
  {
   "cell_type": "code",
   "execution_count": 6,
   "metadata": {},
   "outputs": [
    {
     "name": "stdout",
     "output_type": "stream",
     "text": [
      "41616\n",
      "41616\n",
      "41616\n",
      "41616\n",
      "41616\n"
     ]
    }
   ],
   "source": [
    "for df_country in [de_df, gb_df, es_df, fr_df, it_df]: \n",
    "    print(len(df_country))\n",
    "del df_country"
   ]
  },
  {
   "cell_type": "code",
   "execution_count": 7,
   "metadata": {},
   "outputs": [
    {
     "name": "stdout",
     "output_type": "stream",
     "text": [
      "Indices are identical!\n"
     ]
    }
   ],
   "source": [
    "# Check whether our data preparation was correct\n",
    "# There were different indices in the datasets\n",
    "# Because Britain has British summer time, others Central European summer time\n",
    "# British: change time from 01:00 to 02:00\n",
    "# Central European: change time from 02:00 to 03:00\n",
    "# Source: https://www.timeanddate.com/time/europe/\n",
    "\n",
    "if de_df.index.isin(gb_df.index).all():\n",
    "    print(\"Indices are identical!\")\n",
    "else:\n",
    "    print(\"Indices are not identical...\")\n",
    "\n",
    "    # Find non-matching elements\n",
    "    non_matching_elements_in_de_df = de_df.index[~de_df.index.isin(gb_df.index)]\n",
    "    non_matching_elements_in_gb_df = gb_df.index[~gb_df.index.isin(de_df.index)]\n",
    "    print(\"Non-matching elements in de_df:\", non_matching_elements_in_de_df)\n",
    "    print(\"Non-matching elements in gb_df:\", non_matching_elements_in_gb_df)"
   ]
  },
  {
   "cell_type": "code",
   "execution_count": 8,
   "metadata": {},
   "outputs": [
    {
     "name": "stdout",
     "output_type": "stream",
     "text": [
      "1734 days in the dataset.\n",
      "1734 days in the dataset.\n",
      "1734 days in the dataset.\n",
      "1734 days in the dataset.\n",
      "1734 days in the dataset.\n"
     ]
    }
   ],
   "source": [
    "# days in the datasets\n",
    "for df_country in [de_df, gb_df, es_df, fr_df, it_df]:\n",
    "    days_in_data = len(df_country)/24\n",
    "    print(f'{days_in_data:.0f} days in the dataset.')\n",
    "\n",
    "del df_country"
   ]
  },
  {
   "cell_type": "code",
   "execution_count": 9,
   "metadata": {},
   "outputs": [
    {
     "name": "stdout",
     "output_type": "stream",
     "text": [
      "Index frequency before: None\n",
      "Index frequency after: <Hour>\n"
     ]
    }
   ],
   "source": [
    "# We combine dfs, because it will be easier to work with them\n",
    "combined_df = pd.concat([de_df, gb_df, es_df, fr_df, it_df], axis=1)\n",
    "\n",
    "print('Index frequency before:', combined_df.index.freq)\n",
    "\n",
    "# Set frequency\n",
    "combined_df = combined_df.asfreq('H')\n",
    "print('Index frequency after:', combined_df.index.freq)"
   ]
  },
  {
   "cell_type": "code",
   "execution_count": 10,
   "metadata": {},
   "outputs": [
    {
     "name": "stdout",
     "output_type": "stream",
     "text": [
      "1214 days in the train dataset.\n",
      " 260 days in the test dataset.\n",
      " 260 days in the validation dataset.\n"
     ]
    }
   ],
   "source": [
    "# Divide data into days\n",
    "\n",
    "train_size = int(round(len(country_df)/24*0.7, 0))\n",
    "test_size = int(round(len(country_df)/24*0.15, 0))\n",
    "val_size = int(len(country_df)/24) - train_size - test_size\n",
    "print(f'{train_size:.0f} days in the train dataset.\\n {test_size:.0f} days in the test dataset.\\n {val_size:.0f} days in the validation dataset.')\n",
    "\n",
    "assert(days_in_data == train_size + test_size + val_size)"
   ]
  },
  {
   "cell_type": "code",
   "execution_count": 11,
   "metadata": {},
   "outputs": [
    {
     "name": "stdout",
     "output_type": "stream",
     "text": [
      "29136 observations in the train dataset.\n",
      " 6240 observations in the test dataset.\n",
      " 6240 observations in the validation dataset.\n"
     ]
    }
   ],
   "source": [
    "num_train = train_size*24\n",
    "num_test = test_size*24\n",
    "num_vali = val_size*24\n",
    "print(f'{num_train} observations in the train dataset.\\n {num_test} observations in the test dataset.\\n {num_vali} observations in the validation dataset.')\n",
    "\n",
    "assert(len(country_df) == num_train + num_test + num_vali)"
   ]
  },
  {
   "cell_type": "markdown",
   "metadata": {},
   "source": [
    "Split and scale datasets."
   ]
  },
  {
   "cell_type": "code",
   "execution_count": 12,
   "metadata": {},
   "outputs": [
    {
     "name": "stdout",
     "output_type": "stream",
     "text": [
      "29136 observations in the train dataset.\n",
      "6240 observations in the validation dataset. \n",
      "6240 observations in the test dataset.\n"
     ]
    }
   ],
   "source": [
    "train, vali, test = split_scale_dataset(combined_df, train_split=0.7, test_split=0.15, scaler_type='minmax')"
   ]
  },
  {
   "cell_type": "code",
   "execution_count": 14,
   "metadata": {},
   "outputs": [
    {
     "name": "stdout",
     "output_type": "stream",
     "text": [
      "Column name                              Number of close to zero\n",
      "DE_load_actual_entsoe_transparency                     1\n",
      "DE_solar_generation_actual                         13242\n",
      "DE_wind_generation_actual                              1\n",
      "DE_wind_offshore_generation_actual                    14\n",
      "DE_wind_onshore_generation_actual                      1\n",
      "GB_UKM_load_actual_entsoe_transparency                 1\n",
      "GB_UKM_solar_generation_actual                     11970\n",
      "GB_UKM_wind_generation_actual                          1\n",
      "GB_UKM_wind_offshore_generation_actual                 6\n",
      "GB_UKM_wind_onshore_generation_actual                  1\n",
      "ES_load_actual_entsoe_transparency                     1\n",
      "ES_solar_generation_actual                             4\n",
      "ES_wind_onshore_generation_actual                      4\n",
      "FR_load_actual_entsoe_transparency                     2\n",
      "FR_solar_generation_actual                         13036\n",
      "FR_wind_onshore_generation_actual                      3\n",
      "IT_load_actual_entsoe_transparency                     1\n"
     ]
    }
   ],
   "source": [
    "# Number of close to zero values\n",
    "tolerance = 1e-4 \n",
    "print(f\"{'Column name':<40} {'Number of close to zero':>15}\")\n",
    "\n",
    "for col in train.columns[:-2]:\n",
    "    print(f'{col:<40} {len(train[np.isclose(train[col], 0.0, rtol=tolerance, atol=tolerance)]):>15}')"
   ]
  },
  {
   "cell_type": "code",
   "execution_count": 15,
   "metadata": {},
   "outputs": [
    {
     "data": {
      "text/html": [
       "<div>\n",
       "<style scoped>\n",
       "    .dataframe tbody tr th:only-of-type {\n",
       "        vertical-align: middle;\n",
       "    }\n",
       "\n",
       "    .dataframe tbody tr th {\n",
       "        vertical-align: top;\n",
       "    }\n",
       "\n",
       "    .dataframe thead th {\n",
       "        text-align: right;\n",
       "    }\n",
       "</style>\n",
       "<table border=\"1\" class=\"dataframe\">\n",
       "  <thead>\n",
       "    <tr style=\"text-align: right;\">\n",
       "      <th></th>\n",
       "      <th>DE_load_actual_entsoe_transparency</th>\n",
       "      <th>DE_solar_generation_actual</th>\n",
       "      <th>DE_wind_generation_actual</th>\n",
       "      <th>DE_wind_offshore_generation_actual</th>\n",
       "      <th>DE_wind_onshore_generation_actual</th>\n",
       "      <th>GB_UKM_load_actual_entsoe_transparency</th>\n",
       "      <th>GB_UKM_solar_generation_actual</th>\n",
       "      <th>GB_UKM_wind_generation_actual</th>\n",
       "      <th>GB_UKM_wind_offshore_generation_actual</th>\n",
       "      <th>GB_UKM_wind_onshore_generation_actual</th>\n",
       "      <th>ES_load_actual_entsoe_transparency</th>\n",
       "      <th>ES_solar_generation_actual</th>\n",
       "      <th>ES_wind_onshore_generation_actual</th>\n",
       "      <th>FR_load_actual_entsoe_transparency</th>\n",
       "      <th>FR_solar_generation_actual</th>\n",
       "      <th>FR_wind_onshore_generation_actual</th>\n",
       "      <th>IT_load_actual_entsoe_transparency</th>\n",
       "      <th>IT_solar_generation_actual</th>\n",
       "      <th>IT_wind_onshore_generation_actual</th>\n",
       "    </tr>\n",
       "  </thead>\n",
       "  <tbody>\n",
       "    <tr>\n",
       "      <th>min</th>\n",
       "      <td>0.00</td>\n",
       "      <td>0.00</td>\n",
       "      <td>0.00</td>\n",
       "      <td>0.00</td>\n",
       "      <td>0.00</td>\n",
       "      <td>0.00</td>\n",
       "      <td>0.00</td>\n",
       "      <td>0.00</td>\n",
       "      <td>0.00</td>\n",
       "      <td>0.00</td>\n",
       "      <td>0.00</td>\n",
       "      <td>0.00</td>\n",
       "      <td>0.00</td>\n",
       "      <td>0.00</td>\n",
       "      <td>0.00</td>\n",
       "      <td>0.00</td>\n",
       "      <td>0.00</td>\n",
       "      <td>0.00</td>\n",
       "      <td>0.00</td>\n",
       "    </tr>\n",
       "    <tr>\n",
       "      <th>25%</th>\n",
       "      <td>0.36</td>\n",
       "      <td>0.00</td>\n",
       "      <td>0.10</td>\n",
       "      <td>0.11</td>\n",
       "      <td>0.09</td>\n",
       "      <td>0.50</td>\n",
       "      <td>0.00</td>\n",
       "      <td>0.16</td>\n",
       "      <td>0.13</td>\n",
       "      <td>0.15</td>\n",
       "      <td>0.30</td>\n",
       "      <td>0.01</td>\n",
       "      <td>0.17</td>\n",
       "      <td>0.24</td>\n",
       "      <td>0.00</td>\n",
       "      <td>0.08</td>\n",
       "      <td>0.28</td>\n",
       "      <td>0.00</td>\n",
       "      <td>0.12</td>\n",
       "    </tr>\n",
       "    <tr>\n",
       "      <th>50%</th>\n",
       "      <td>0.54</td>\n",
       "      <td>0.00</td>\n",
       "      <td>0.20</td>\n",
       "      <td>0.30</td>\n",
       "      <td>0.18</td>\n",
       "      <td>0.63</td>\n",
       "      <td>0.01</td>\n",
       "      <td>0.29</td>\n",
       "      <td>0.27</td>\n",
       "      <td>0.28</td>\n",
       "      <td>0.48</td>\n",
       "      <td>0.10</td>\n",
       "      <td>0.29</td>\n",
       "      <td>0.35</td>\n",
       "      <td>0.02</td>\n",
       "      <td>0.15</td>\n",
       "      <td>0.45</td>\n",
       "      <td>0.01</td>\n",
       "      <td>0.25</td>\n",
       "    </tr>\n",
       "    <tr>\n",
       "      <th>75%</th>\n",
       "      <td>0.74</td>\n",
       "      <td>0.22</td>\n",
       "      <td>0.36</td>\n",
       "      <td>0.51</td>\n",
       "      <td>0.33</td>\n",
       "      <td>0.71</td>\n",
       "      <td>0.21</td>\n",
       "      <td>0.48</td>\n",
       "      <td>0.47</td>\n",
       "      <td>0.46</td>\n",
       "      <td>0.63</td>\n",
       "      <td>0.44</td>\n",
       "      <td>0.43</td>\n",
       "      <td>0.51</td>\n",
       "      <td>0.30</td>\n",
       "      <td>0.27</td>\n",
       "      <td>0.64</td>\n",
       "      <td>0.38</td>\n",
       "      <td>0.44</td>\n",
       "    </tr>\n",
       "    <tr>\n",
       "      <th>max</th>\n",
       "      <td>1.00</td>\n",
       "      <td>1.00</td>\n",
       "      <td>1.00</td>\n",
       "      <td>1.00</td>\n",
       "      <td>1.00</td>\n",
       "      <td>1.00</td>\n",
       "      <td>1.00</td>\n",
       "      <td>1.00</td>\n",
       "      <td>1.00</td>\n",
       "      <td>1.00</td>\n",
       "      <td>1.00</td>\n",
       "      <td>1.00</td>\n",
       "      <td>1.00</td>\n",
       "      <td>1.00</td>\n",
       "      <td>1.00</td>\n",
       "      <td>1.00</td>\n",
       "      <td>1.00</td>\n",
       "      <td>1.00</td>\n",
       "      <td>1.00</td>\n",
       "    </tr>\n",
       "  </tbody>\n",
       "</table>\n",
       "</div>"
      ],
      "text/plain": [
       "     DE_load_actual_entsoe_transparency  DE_solar_generation_actual  \\\n",
       "min                                0.00                        0.00   \n",
       "25%                                0.36                        0.00   \n",
       "50%                                0.54                        0.00   \n",
       "75%                                0.74                        0.22   \n",
       "max                                1.00                        1.00   \n",
       "\n",
       "     DE_wind_generation_actual  DE_wind_offshore_generation_actual  \\\n",
       "min                       0.00                                0.00   \n",
       "25%                       0.10                                0.11   \n",
       "50%                       0.20                                0.30   \n",
       "75%                       0.36                                0.51   \n",
       "max                       1.00                                1.00   \n",
       "\n",
       "     DE_wind_onshore_generation_actual  \\\n",
       "min                               0.00   \n",
       "25%                               0.09   \n",
       "50%                               0.18   \n",
       "75%                               0.33   \n",
       "max                               1.00   \n",
       "\n",
       "     GB_UKM_load_actual_entsoe_transparency  GB_UKM_solar_generation_actual  \\\n",
       "min                                    0.00                            0.00   \n",
       "25%                                    0.50                            0.00   \n",
       "50%                                    0.63                            0.01   \n",
       "75%                                    0.71                            0.21   \n",
       "max                                    1.00                            1.00   \n",
       "\n",
       "     GB_UKM_wind_generation_actual  GB_UKM_wind_offshore_generation_actual  \\\n",
       "min                           0.00                                    0.00   \n",
       "25%                           0.16                                    0.13   \n",
       "50%                           0.29                                    0.27   \n",
       "75%                           0.48                                    0.47   \n",
       "max                           1.00                                    1.00   \n",
       "\n",
       "     GB_UKM_wind_onshore_generation_actual  \\\n",
       "min                                   0.00   \n",
       "25%                                   0.15   \n",
       "50%                                   0.28   \n",
       "75%                                   0.46   \n",
       "max                                   1.00   \n",
       "\n",
       "     ES_load_actual_entsoe_transparency  ES_solar_generation_actual  \\\n",
       "min                                0.00                        0.00   \n",
       "25%                                0.30                        0.01   \n",
       "50%                                0.48                        0.10   \n",
       "75%                                0.63                        0.44   \n",
       "max                                1.00                        1.00   \n",
       "\n",
       "     ES_wind_onshore_generation_actual  FR_load_actual_entsoe_transparency  \\\n",
       "min                               0.00                                0.00   \n",
       "25%                               0.17                                0.24   \n",
       "50%                               0.29                                0.35   \n",
       "75%                               0.43                                0.51   \n",
       "max                               1.00                                1.00   \n",
       "\n",
       "     FR_solar_generation_actual  FR_wind_onshore_generation_actual  \\\n",
       "min                        0.00                               0.00   \n",
       "25%                        0.00                               0.08   \n",
       "50%                        0.02                               0.15   \n",
       "75%                        0.30                               0.27   \n",
       "max                        1.00                               1.00   \n",
       "\n",
       "     IT_load_actual_entsoe_transparency  IT_solar_generation_actual  \\\n",
       "min                                0.00                        0.00   \n",
       "25%                                0.28                        0.00   \n",
       "50%                                0.45                        0.01   \n",
       "75%                                0.64                        0.38   \n",
       "max                                1.00                        1.00   \n",
       "\n",
       "     IT_wind_onshore_generation_actual  \n",
       "min                               0.00  \n",
       "25%                               0.12  \n",
       "50%                               0.25  \n",
       "75%                               0.44  \n",
       "max                               1.00  "
      ]
     },
     "execution_count": 15,
     "metadata": {},
     "output_type": "execute_result"
    }
   ],
   "source": [
    "train.describe().loc[['min', '25%', '50%', '75%', 'max']].round(2)"
   ]
  },
  {
   "cell_type": "code",
   "execution_count": 28,
   "metadata": {},
   "outputs": [],
   "source": [
    "combined_df.to_csv(\"./datasets/combined_data.csv\")"
   ]
  }
 ],
 "metadata": {
  "kernelspec": {
   "display_name": "val",
   "language": "python",
   "name": "python3"
  },
  "language_info": {
   "codemirror_mode": {
    "name": "ipython",
    "version": 3
   },
   "file_extension": ".py",
   "mimetype": "text/x-python",
   "name": "python",
   "nbconvert_exporter": "python",
   "pygments_lexer": "ipython3",
   "version": "3.11.5"
  }
 },
 "nbformat": 4,
 "nbformat_minor": 2
}
