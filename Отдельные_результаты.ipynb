{
 "cells": [
  {
   "cell_type": "code",
   "execution_count": null,
   "metadata": {},
   "outputs": [],
   "source": []
  },
  {
   "cell_type": "code",
   "execution_count": 22,
   "metadata": {},
   "outputs": [
    {
     "name": "stdout",
     "output_type": "stream",
     "text": [
      "Results for only one day of week forecasting for country: DE: RMSE: 15.79, MAE: 10.48\n",
      "Results for only one day of week forecasting for country: GB: RMSE: 21.65, MAE: 13.81\n",
      "Results for only one day of week forecasting for country: ES: RMSE: 17.67, MAE: 10.41\n",
      "Results for only one day of week forecasting for country: FR: RMSE: 13.14, MAE: 7.10\n",
      "Results for only one day of week forecasting for country: IT: RMSE: 12.09, MAE: 6.82\n"
     ]
    }
   ],
   "source": [
    "import numpy as np\n",
    "# Results from same day of week as in (S)ARIMA\n",
    "# path with informer results\n",
    "top_5_countries = ['DE', 'GB', 'ES', 'FR', 'IT']\n",
    "for country in top_5_countries:\n",
    "    path_full = f\"informer_npy_results_32gb/{country}_96_24_{country}_Informer_custom_ftM_sl96_ll48_pl24_dm512_nh8_el2_dl1_df2048_fc5_ebtimeF_dtTrue_lossMAE_Exp_0\"\n",
    "    pred = np.load(path_full + \"/pred.npy\")[:, :, :]\n",
    "    true = np.load(path_full + \"/true.npy\")[:, :, :]\n",
    "    pred = pred[::168, :, :].flatten()\n",
    "    true = true[::168, :, :].flatten()\n",
    "\n",
    "    rmse = np.sqrt(np.mean((pred - true) ** 2)) \n",
    "    mae = np.mean(np.abs(pred - true)) \n",
    "\n",
    "    rmse = rmse*100\n",
    "    mae = mae*100\n",
    "    print(f\"Results for only one day of week forecasting for country: {country}: RMSE: {rmse:.2f}, MAE: {mae:.2f}\")\n"
   ]
  },
  {
   "cell_type": "code",
   "execution_count": 15,
   "metadata": {},
   "outputs": [
    {
     "data": {
      "text/plain": [
       "37.0"
      ]
     },
     "execution_count": 15,
     "metadata": {},
     "output_type": "execute_result"
    }
   ],
   "source": [
    "4440/5/24"
   ]
  },
  {
   "cell_type": "code",
   "execution_count": 12,
   "metadata": {},
   "outputs": [
    {
     "data": {
      "text/plain": [
       "36.95238095238095"
      ]
     },
     "execution_count": 12,
     "metadata": {},
     "output_type": "execute_result"
    }
   ],
   "source": [
    "6208/168"
   ]
  },
  {
   "cell_type": "code",
   "execution_count": 5,
   "metadata": {},
   "outputs": [
    {
     "data": {
      "text/plain": [
       "36.95238095238095"
      ]
     },
     "execution_count": 5,
     "metadata": {},
     "output_type": "execute_result"
    }
   ],
   "source": [
    "6208/168"
   ]
  },
  {
   "cell_type": "code",
   "execution_count": 6,
   "metadata": {},
   "outputs": [
    {
     "data": {
      "text/plain": [
       "37.142857142857146"
      ]
     },
     "execution_count": 6,
     "metadata": {},
     "output_type": "execute_result"
    }
   ],
   "source": [
    "6240/168"
   ]
  },
  {
   "cell_type": "code",
   "execution_count": 4,
   "metadata": {},
   "outputs": [
    {
     "data": {
      "text/plain": [
       "195.0"
      ]
     },
     "execution_count": 4,
     "metadata": {},
     "output_type": "execute_result"
    }
   ],
   "source": [
    "6240/32"
   ]
  },
  {
   "cell_type": "code",
   "execution_count": 3,
   "metadata": {},
   "outputs": [
    {
     "data": {
      "text/plain": [
       "32"
      ]
     },
     "execution_count": 3,
     "metadata": {},
     "output_type": "execute_result"
    }
   ],
   "source": [
    "6240-6208"
   ]
  },
  {
   "cell_type": "code",
   "execution_count": null,
   "metadata": {},
   "outputs": [],
   "source": [
    "top_5_countries = ['DE', 'GB', 'ES', 'FR', 'IT']\n",
    "\n",
    "# Dictionaries to store MSE and MAE values for each column\n",
    "mse_values_dict = {}\n",
    "mae_values_dict = {}\n",
    "\n",
    "for country in top_5_countries:\n",
    "    columns = [col for col in metrics_df.columns.levels[0] if col.startswith(country)]\n",
    "    \n",
    "    for i, col in enumerate(columns):\n",
    "\n",
    "        # Initialize lists to store MSE and MAE values for the current column\n",
    "        mse_values = []\n",
    "        mae_values = []\n",
    "        \n",
    "        # Iterate over experiment numbers\n",
    "        for j in range(2):\n",
    "            path = \"/Users/valentyna/Documents/Master_thesis_new/results/Informer/long_term_forecast__24_\"\n",
    "            path_2 = \"_Informer_custom_ftM_sl96_ll48_pl24_dm512_nh8_el2_dl5_df2048_fc5_ebtimeF_dtTrue_Exp_\"\n",
    "            \n",
    "            exp_number = j\n",
    "            path_full = path + country + path_2 + str(exp_number)\n",
    "\n",
    "            pred = np.load(path_full + \"/pred.npy\")[:, :, i]\n",
    "            true = np.load(path_full + \"/true.npy\")[:, :, i]\n",
    "\n",
    "            #mse = mean_squared_error(true, pred)\n",
    "            #mae = mean_absolute_error(true, pred)\n",
    "            mse = mean_squared_error(pred, true)\n",
    "            mae = mean_absolute_error(pred, true)\n",
    "\n",
    "            # Append MSE and MAE values to the lists\n",
    "            mse_values.append(mse)\n",
    "            mae_values.append(mae)\n",
    "        \n",
    "        # Store MSE and MAE values for the current column\n",
    "        mse_values_dict[col] = mse_values\n",
    "        mae_values_dict[col] = mae_values"
   ]
  }
 ],
 "metadata": {
  "kernelspec": {
   "display_name": "Python 3",
   "language": "python",
   "name": "python3"
  },
  "language_info": {
   "codemirror_mode": {
    "name": "ipython",
    "version": 3
   },
   "file_extension": ".py",
   "mimetype": "text/x-python",
   "name": "python",
   "nbconvert_exporter": "python",
   "pygments_lexer": "ipython3",
   "version": "3.9.16"
  }
 },
 "nbformat": 4,
 "nbformat_minor": 2
}
