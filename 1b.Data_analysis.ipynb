{
 "cells": [
  {
   "cell_type": "markdown",
   "metadata": {},
   "source": [
    "# 1. Dates"
   ]
  },
  {
   "cell_type": "code",
   "execution_count": null,
   "metadata": {},
   "outputs": [],
   "source": [
    "pd.to_datetime(data['utc_timestamp']).dt.tz_convert('Europe/Berlin').dt.tz_localize(None)\n",
    "pd.to_datetime(data['utc_timestamp']).dt.tz_convert('Europe/Rome').dt.tz_localize(None)\n",
    "pd.to_datetime(data['utc_timestamp']).dt.tz_convert('Europe/London').dt.tz_localize(None)"
   ]
  },
  {
   "cell_type": "markdown",
   "metadata": {},
   "source": [
    "# Outliers count"
   ]
  },
  {
   "cell_type": "code",
   "execution_count": null,
   "metadata": {},
   "outputs": [],
   "source": [
    "# Convert columns to numeric where possible, invalid parsing will be set as NaN\n",
    "df_numeric = data.apply(pd.to_numeric, errors='coerce')\n",
    "\n",
    "# Function to calculate outliers using the IQR method\n",
    "def count_outliers(column):\n",
    "    Q1 = column.quantile(0.25)\n",
    "    Q3 = column.quantile(0.75)\n",
    "    IQR = Q3 - Q1\n",
    "    lower_bound = Q1 - 1.5 * IQR\n",
    "    upper_bound = Q3 + 1.5 * IQR\n",
    "    outliers = column[(column < lower_bound) | (column > upper_bound)]\n",
    "    return len(outliers)\n",
    "\n",
    "# Apply the function to each column in the DataFrame\n",
    "outlier_counts = df_numeric.apply(count_outliers)\n",
    "\n",
    "print(outlier_counts)"
   ]
  },
  {
   "cell_type": "markdown",
   "metadata": {},
   "source": [
    "# Granger causality"
   ]
  },
  {
   "cell_type": "code",
   "execution_count": null,
   "metadata": {},
   "outputs": [],
   "source": []
  }
 ],
 "metadata": {
  "kernelspec": {
   "display_name": "val",
   "language": "python",
   "name": "python3"
  },
  "language_info": {
   "name": "python",
   "version": "3.11.5"
  }
 },
 "nbformat": 4,
 "nbformat_minor": 2
}
