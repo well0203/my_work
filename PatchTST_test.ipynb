{
 "cells": [
  {
   "cell_type": "code",
   "execution_count": 15,
   "metadata": {},
   "outputs": [],
   "source": [
    "import os\n",
    "\n",
    "# Define the log directory paths\n",
    "log_dir = \"./logs\"\n",
    "long_forecasting_dir = os.path.join(log_dir, \"LongForecasting\")\n",
    "\n",
    "# Create the directories if they do not exist\n",
    "if not os.path.exists(log_dir):\n",
    "    os.makedirs(log_dir)\n",
    "\n",
    "if not os.path.exists(long_forecasting_dir):\n",
    "    os.makedirs(long_forecasting_dir)"
   ]
  },
  {
   "cell_type": "code",
   "execution_count": 19,
   "metadata": {},
   "outputs": [
    {
     "data": {
      "text/plain": [
       "'/vol/cs-hu/riabchuv/my_work/datasets/'"
      ]
     },
     "execution_count": 19,
     "metadata": {},
     "output_type": "execute_result"
    }
   ],
   "source": [
    "os.getcwd() + \"/datasets/\""
   ]
  },
  {
   "cell_type": "code",
   "execution_count": 26,
   "metadata": {},
   "outputs": [],
   "source": [
    "current_path = os.getcwd() + \"/datasets/\"\n",
    "dataset = 'GB_data_small.csv'\n",
    "data = \"custom\"\n",
    "random_seed=2021\n",
    "model_name=\"PatchTST\"\n",
    "seq_len=20\n",
    "model_id_name=\"test\"\n",
    "\n",
    "os.environ[\"CUDA_VISIBLE_DEVICES\"] = \"2\"\n",
    "\n",
    "\n",
    "!python -u ./PatchTST-main/PatchTST_supervised/run_longExp.py \\\n",
    "  --random_seed 2021 \\\n",
    "  --is_training 1 \\\n",
    "  --root_path \"/vol/cs-hu/riabchuv/my_work/datasets/\" \\\n",
    "  --data_path \"IT_data.csv\" \\\n",
    "  --model_id 1 \\\n",
    "  --model \"PatchTST\" \\\n",
    "  --model_id $model_id_name_$seq_len'_'$pred_len \\\n",
    "  --data \"custom\" \\\n",
    "  --features M \\\n",
    "  --seq_len 336 \\\n",
    "  --pred_len 96 \\\n",
    "  --e_layers 2 \\\n",
    "  --d_layers 1 \\\n",
    "  --factor 3 \\\n",
    "  --enc_in 3 \\\n",
    "  --dec_in 3 \\\n",
    "  --c_out 3 \\\n",
    "  --des 'Exp' \\\n",
    "  --train_epochs 1\\\n",
    "  --patience 1\\\n",
    "  --patch_len 16\\\n",
    "  --stride 8\\\n",
    "  --n_heads 16 \\\n",
    "  --d_model 128 \\\n",
    "  --d_ff 256 \\\n",
    "  --dropout 0.2\\\n",
    "  --fc_dropout 0.2\\\n",
    "  --head_dropout 0\\\n",
    "  --itr 1 --batch_size 128 --learning_rate 0.0001 >logs/LongForecasting/$model_name'_'$model_id_name'_'$seq_len'_'$pred_len.log"
   ]
  },
  {
   "cell_type": "markdown",
   "metadata": {},
   "source": [
    "# In another format, Info stored in logs"
   ]
  },
  {
   "cell_type": "code",
   "execution_count": 27,
   "metadata": {},
   "outputs": [
    {
     "data": {
      "text/plain": [
       "CompletedProcess(args=\"\\npython -u ./PatchTST-main/PatchTST_supervised/run_longExp.py   --random_seed 2021   --is_training 1   --root_path /vol/cs-hu/riabchuv/my_work/datasets   --data_path IT_data.csv   --model_id 1   --model PatchTST   --model_id test_336_96   --data custom   --features M   --seq_len 336   --pred_len 96   --e_layers 2   --d_layers 1   --factor 3   --enc_in 5   --dec_in 5   --c_out 5   --des 'Exp'   --train_epochs 10   --patience 3   --patch_len 16   --stride 8   --n_heads 16   --d_model 128   --d_ff 256   --dropout 0.2   --fc_dropout 0.2   --head_dropout 0   --itr 1   --batch_size 128   --learning_rate 0.0001 > ./logs/LongForecasting/PatchTST_test_336_96.log\\n\", returncode=0)"
      ]
     },
     "execution_count": 27,
     "metadata": {},
     "output_type": "execute_result"
    }
   ],
   "source": [
    "import os\n",
    "import subprocess\n",
    "\n",
    "# Define paths and parameters\n",
    "current_path = os.path.join(os.getcwd(), \"datasets\")\n",
    "dataset = 'IT_data.csv'\n",
    "data = \"custom\"\n",
    "random_seed = 2021\n",
    "model_name = \"PatchTST\"\n",
    "seq_len = 336\n",
    "pred_len = 96  # Define pred_len since it's used in the log file name\n",
    "model_id_name = \"test\"\n",
    "\n",
    "# Create log directories if they don't exist\n",
    "log_dir = \"./logs\"\n",
    "long_forecasting_dir = os.path.join(log_dir, \"LongForecasting\")\n",
    "\n",
    "if not os.path.exists(log_dir):\n",
    "    os.makedirs(log_dir)\n",
    "\n",
    "if not os.path.exists(long_forecasting_dir):\n",
    "    os.makedirs(long_forecasting_dir)\n",
    "\n",
    "# Define the log file path\n",
    "log_file = f\"{long_forecasting_dir}/{model_name}_{model_id_name}_{seq_len}_{pred_len}.log\"\n",
    "\n",
    "# Construct the command\n",
    "command = f\"\"\"\n",
    "python -u ./PatchTST-main/PatchTST_supervised/run_longExp.py \\\n",
    "  --random_seed {random_seed} \\\n",
    "  --is_training 1 \\\n",
    "  --root_path {current_path} \\\n",
    "  --data_path {dataset} \\\n",
    "  --model_id 1 \\\n",
    "  --model {model_name} \\\n",
    "  --model_id {model_id_name}_{seq_len}_{pred_len} \\\n",
    "  --data {data} \\\n",
    "  --features M \\\n",
    "  --seq_len {seq_len} \\\n",
    "  --pred_len {pred_len} \\\n",
    "  --e_layers 2 \\\n",
    "  --d_layers 1 \\\n",
    "  --factor 3 \\\n",
    "  --enc_in 5 \\\n",
    "  --dec_in 5 \\\n",
    "  --c_out 5 \\\n",
    "  --des 'Exp' \\\n",
    "  --train_epochs 10 \\\n",
    "  --patience 3 \\\n",
    "  --patch_len 16 \\\n",
    "  --stride 8 \\\n",
    "  --n_heads 16 \\\n",
    "  --d_model 128 \\\n",
    "  --d_ff 256 \\\n",
    "  --dropout 0.2 \\\n",
    "  --fc_dropout 0.2 \\\n",
    "  --head_dropout 0 \\\n",
    "  --itr 1 \\\n",
    "  --batch_size 128 \\\n",
    "  --learning_rate 0.0001 > {log_file}\n",
    "\"\"\"\n",
    "\n",
    "# Execute the command\n",
    "subprocess.run(command, shell=True, check=True)\n"
   ]
  }
 ],
 "metadata": {
  "kernelspec": {
   "display_name": "val",
   "language": "python",
   "name": "python3"
  },
  "language_info": {
   "codemirror_mode": {
    "name": "ipython",
    "version": 3
   },
   "file_extension": ".py",
   "mimetype": "text/x-python",
   "name": "python",
   "nbconvert_exporter": "python",
   "pygments_lexer": "ipython3",
   "version": "3.11.5"
  }
 },
 "nbformat": 4,
 "nbformat_minor": 2
}
